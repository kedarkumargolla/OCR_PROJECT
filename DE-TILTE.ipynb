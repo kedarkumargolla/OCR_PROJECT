{
 "cells": [
  {
   "cell_type": "code",
   "execution_count": 1,
   "metadata": {
    "ExecuteTime": {
     "end_time": "2020-02-07T07:23:05.284029Z",
     "start_time": "2020-02-07T07:23:03.796882Z"
    }
   },
   "outputs": [],
   "source": [
    "import numpy as np\n",
    "import cv2 \n",
    "import matplotlib.pyplot as plt"
   ]
  },
  {
   "cell_type": "code",
   "execution_count": 2,
   "metadata": {
    "ExecuteTime": {
     "end_time": "2020-02-07T07:23:05.394965Z",
     "start_time": "2020-02-07T07:23:05.288026Z"
    }
   },
   "outputs": [],
   "source": [
    "image=cv2.imread(\"1.jpg\",0)"
   ]
  },
  {
   "cell_type": "code",
   "execution_count": 3,
   "metadata": {
    "ExecuteTime": {
     "end_time": "2020-02-07T07:23:05.429948Z",
     "start_time": "2020-02-07T07:23:05.398962Z"
    }
   },
   "outputs": [],
   "source": [
    "gray = cv2.bitwise_not(image)"
   ]
  },
  {
   "cell_type": "code",
   "execution_count": 4,
   "metadata": {
    "ExecuteTime": {
     "end_time": "2020-02-07T07:23:05.595851Z",
     "start_time": "2020-02-07T07:23:05.434942Z"
    }
   },
   "outputs": [],
   "source": [
    "thresh = cv2.threshold(gray, 0, 255,cv2.THRESH_BINARY | cv2.THRESH_OTSU)[1]"
   ]
  },
  {
   "cell_type": "code",
   "execution_count": 5,
   "metadata": {
    "ExecuteTime": {
     "end_time": "2020-02-07T07:23:05.705787Z",
     "start_time": "2020-02-07T07:23:05.599847Z"
    }
   },
   "outputs": [
    {
     "data": {
      "text/plain": [
       "'\\ncv2.imshow(\"img\",image)\\ncv2.waitKey(0)\\ncv2.destroyAllWindows()\\n'"
      ]
     },
     "execution_count": 5,
     "metadata": {},
     "output_type": "execute_result"
    }
   ],
   "source": [
    "\"\"\"\n",
    "cv2.imshow(\"img\",image)\n",
    "cv2.waitKey(0)\n",
    "cv2.destroyAllWindows()\n",
    "\"\"\"\n"
   ]
  },
  {
   "cell_type": "code",
   "execution_count": 6,
   "metadata": {
    "ExecuteTime": {
     "end_time": "2020-02-07T07:23:05.953646Z",
     "start_time": "2020-02-07T07:23:05.709784Z"
    }
   },
   "outputs": [],
   "source": [
    "coords = np.column_stack(np.where(thresh > 0))\n",
    "angle = cv2.minAreaRect(coords)[-1]"
   ]
  },
  {
   "cell_type": "code",
   "execution_count": 7,
   "metadata": {
    "ExecuteTime": {
     "end_time": "2020-02-07T07:23:06.128544Z",
     "start_time": "2020-02-07T07:23:05.956642Z"
    }
   },
   "outputs": [],
   "source": [
    "coords = np.column_stack(np.where(thresh > 0))\n",
    "rRect = cv2.minAreaRect(coords)"
   ]
  },
  {
   "cell_type": "code",
   "execution_count": 8,
   "metadata": {
    "ExecuteTime": {
     "end_time": "2020-02-07T07:23:06.157527Z",
     "start_time": "2020-02-07T07:23:06.138539Z"
    }
   },
   "outputs": [],
   "source": [
    "if angle < -45:\n",
    "    angle = -(90 + angle)\n",
    "else:\n",
    "    angle = -angle"
   ]
  },
  {
   "cell_type": "code",
   "execution_count": 9,
   "metadata": {
    "ExecuteTime": {
     "end_time": "2020-02-07T07:23:06.252473Z",
     "start_time": "2020-02-07T07:23:06.167521Z"
    }
   },
   "outputs": [
    {
     "data": {
      "text/plain": [
       "-0.28398895263671875"
      ]
     },
     "execution_count": 9,
     "metadata": {},
     "output_type": "execute_result"
    }
   ],
   "source": [
    "angle"
   ]
  },
  {
   "cell_type": "code",
   "execution_count": 10,
   "metadata": {
    "ExecuteTime": {
     "end_time": "2020-02-07T07:23:06.381399Z",
     "start_time": "2020-02-07T07:23:06.256470Z"
    }
   },
   "outputs": [
    {
     "data": {
      "text/plain": [
       "'\\n(h, w) = rRect[1]\\ncenter = (w // 2, h // 2)\\nM = cv2.getRotationMatrix2D(rRect[0], angle, 1.0)\\nrotated = cv2.warpAffine(image, M, (int(w), int(h)))\\n'"
      ]
     },
     "execution_count": 10,
     "metadata": {},
     "output_type": "execute_result"
    }
   ],
   "source": [
    "\"\"\"\n",
    "(h, w) = rRect[1]\n",
    "center = (w // 2, h // 2)\n",
    "M = cv2.getRotationMatrix2D(rRect[0], angle, 1.0)\n",
    "rotated = cv2.warpAffine(image, M, (int(w), int(h)))\n",
    "\"\"\"\n"
   ]
  },
  {
   "cell_type": "code",
   "execution_count": 11,
   "metadata": {
    "ExecuteTime": {
     "end_time": "2020-02-07T07:23:06.666236Z",
     "start_time": "2020-02-07T07:23:06.385397Z"
    }
   },
   "outputs": [],
   "source": [
    "(h, w) = image.shape[:2]\n",
    "center = (w // 2, h // 2)\n",
    "M = cv2.getRotationMatrix2D(center, angle, 1.0)\n",
    "rotated = cv2.warpAffine(image, M, (w, h),\n",
    "\tflags=cv2.INTER_CUBIC, borderMode=cv2.BORDER_REPLICATE)"
   ]
  },
  {
   "cell_type": "code",
   "execution_count": 12,
   "metadata": {
    "ExecuteTime": {
     "end_time": "2020-02-07T07:23:17.768221Z",
     "start_time": "2020-02-07T07:23:06.670234Z"
    }
   },
   "outputs": [
    {
     "name": "stdout",
     "output_type": "stream",
     "text": [
      "[INFO] angle: -0.284\n"
     ]
    }
   ],
   "source": [
    "\n",
    " \n",
    "# show the output image\n",
    "print(\"[INFO] angle: {:.3f}\".format(angle))\n",
    "cv2.imshow(\"Input\", image)\n",
    "cv2.imshow(\"Rotated\", rotated)\n",
    "cv2.waitKey(0)\n",
    "cv2.destroyAllWindows()"
   ]
  },
  {
   "cell_type": "code",
   "execution_count": 13,
   "metadata": {
    "ExecuteTime": {
     "end_time": "2020-02-07T07:23:17.942120Z",
     "start_time": "2020-02-07T07:23:17.772217Z"
    }
   },
   "outputs": [
    {
     "data": {
      "text/plain": [
       "True"
      ]
     },
     "execution_count": 13,
     "metadata": {},
     "output_type": "execute_result"
    }
   ],
   "source": [
    "cv2.imwrite(\"C:\\\\Users\\\\USER\\\\Desktop\\\\CapStone\\\\TILTING_PROBLEM\\\\out_Rotated.jpeg\", rotated)"
   ]
  },
  {
   "cell_type": "code",
   "execution_count": 14,
   "metadata": {
    "ExecuteTime": {
     "end_time": "2020-02-07T07:23:18.001166Z",
     "start_time": "2020-02-07T07:23:17.945117Z"
    }
   },
   "outputs": [
    {
     "ename": "SyntaxError",
     "evalue": "invalid syntax (<ipython-input-14-bc888235687a>, line 1)",
     "output_type": "error",
     "traceback": [
      "\u001b[1;36m  File \u001b[1;32m\"<ipython-input-14-bc888235687a>\"\u001b[1;36m, line \u001b[1;32m1\u001b[0m\n\u001b[1;33m    pd.\u001b[0m\n\u001b[1;37m       ^\u001b[0m\n\u001b[1;31mSyntaxError\u001b[0m\u001b[1;31m:\u001b[0m invalid syntax\n"
     ]
    }
   ],
   "source": [
    "pd."
   ]
  },
  {
   "cell_type": "code",
   "execution_count": null,
   "metadata": {},
   "outputs": [],
   "source": []
  },
  {
   "cell_type": "code",
   "execution_count": null,
   "metadata": {
    "ExecuteTime": {
     "end_time": "2020-02-07T07:23:18.009164Z",
     "start_time": "2020-02-07T07:23:04.134Z"
    }
   },
   "outputs": [],
   "source": [
    "coords = np.column_stack(np.where(thresh > 0))"
   ]
  },
  {
   "cell_type": "code",
   "execution_count": null,
   "metadata": {
    "ExecuteTime": {
     "end_time": "2020-02-07T07:23:18.015157Z",
     "start_time": "2020-02-07T07:23:04.159Z"
    }
   },
   "outputs": [],
   "source": [
    "rect = cv2.boundingRect(coords)  \n",
    "x,y,w,h = rect   \n",
    "cropped = image[y:y+h, x:x+w] "
   ]
  },
  {
   "cell_type": "code",
   "execution_count": null,
   "metadata": {
    "ExecuteTime": {
     "end_time": "2020-02-07T07:23:18.018158Z",
     "start_time": "2020-02-07T07:23:04.168Z"
    }
   },
   "outputs": [],
   "source": [
    "def crop_center(pil_img, crop_width, crop_height):\n",
    "    img_width, img_height = pil_img.size\n",
    "    return pil_img.crop(((img_width - crop_width) // 2,\n",
    "                         (img_height - crop_height) // 2,\n",
    "                         (img_width + crop_width) // 2,\n",
    "                         (img_height + crop_height) // 2))"
   ]
  },
  {
   "cell_type": "code",
   "execution_count": null,
   "metadata": {
    "ExecuteTime": {
     "end_time": "2020-02-07T07:23:18.021157Z",
     "start_time": "2020-02-07T07:23:04.178Z"
    }
   },
   "outputs": [],
   "source": [
    "def crop_max_square(pil_img):\n",
    "    return crop_center(pil_img, min(pil_img.size), min(pil_img.size))"
   ]
  },
  {
   "cell_type": "code",
   "execution_count": null,
   "metadata": {
    "ExecuteTime": {
     "end_time": "2020-02-07T07:23:18.024154Z",
     "start_time": "2020-02-07T07:23:04.188Z"
    }
   },
   "outputs": [],
   "source": [
    "kk=crop_max_square(image)"
   ]
  },
  {
   "cell_type": "code",
   "execution_count": null,
   "metadata": {
    "ExecuteTime": {
     "end_time": "2020-02-07T07:23:18.027151Z",
     "start_time": "2020-02-07T07:23:04.197Z"
    }
   },
   "outputs": [],
   "source": [
    "cv2.boxPoints(coords)"
   ]
  },
  {
   "cell_type": "code",
   "execution_count": null,
   "metadata": {
    "ExecuteTime": {
     "end_time": "2020-02-07T07:23:18.030150Z",
     "start_time": "2020-02-07T07:23:04.202Z"
    }
   },
   "outputs": [],
   "source": [
    "img = cv2.imread('Tilted_img.jpeg')\n",
    "rows,cols,ch = img.shape\n",
    "pts1 = np.float32([[56,65],[368,52],[28,387],[389,390]])\n",
    "pts2 = np.float32([[0,0],[300,0],[0,300],[300,300]])\n",
    "M = cv.getPerspectiveTransform(pts1,pts2)\n",
    "dst = cv.warpPerspective(img,M,(300,300))\n",
    "plt.subplot(121),plt.imshow(img),plt.title('Input')\n",
    "plt.subplot(122),plt.imshow(dst),plt.title('Output')\n",
    "plt.show()"
   ]
  },
  {
   "cell_type": "code",
   "execution_count": null,
   "metadata": {
    "ExecuteTime": {
     "end_time": "2020-02-07T07:23:18.034148Z",
     "start_time": "2020-02-07T07:23:04.208Z"
    }
   },
   "outputs": [],
   "source": [
    "img = cv2.imread('Tilted_img.jpeg')\n",
    "rows,cols,ch = img.shape"
   ]
  },
  {
   "cell_type": "code",
   "execution_count": null,
   "metadata": {
    "ExecuteTime": {
     "end_time": "2020-02-07T07:23:18.036147Z",
     "start_time": "2020-02-07T07:23:04.213Z"
    }
   },
   "outputs": [],
   "source": [
    "img.shape"
   ]
  },
  {
   "cell_type": "code",
   "execution_count": null,
   "metadata": {
    "ExecuteTime": {
     "end_time": "2020-02-07T07:23:18.039144Z",
     "start_time": "2020-02-07T07:23:04.218Z"
    }
   },
   "outputs": [],
   "source": [
    "cv2.approxPolyDP()"
   ]
  },
  {
   "cell_type": "code",
   "execution_count": null,
   "metadata": {
    "ExecuteTime": {
     "end_time": "2020-02-07T07:23:18.041145Z",
     "start_time": "2020-02-07T07:23:04.223Z"
    }
   },
   "outputs": [],
   "source": [
    "import cv2\n",
    "import numpy as np\n",
    "\n",
    "img = cv2.imread('Tilted_img.jpeg',0)\n",
    "ret,thresh = cv2.threshold(img,127,255,0)\n",
    "contours,hierarchy = cv2.findContours(thresh, 1, 2)\n",
    "\n",
    "cnt = contours[0]\n",
    "M = cv2.moments(cnt)\n",
    "print (M)"
   ]
  },
  {
   "cell_type": "code",
   "execution_count": null,
   "metadata": {
    "ExecuteTime": {
     "end_time": "2020-02-07T07:23:18.043142Z",
     "start_time": "2020-02-07T07:23:04.227Z"
    }
   },
   "outputs": [],
   "source": [
    "cnt"
   ]
  },
  {
   "cell_type": "code",
   "execution_count": null,
   "metadata": {
    "ExecuteTime": {
     "end_time": "2020-02-07T07:23:18.045142Z",
     "start_time": "2020-02-07T07:23:04.233Z"
    }
   },
   "outputs": [],
   "source": [
    "epsilon = 0.1*cv2.arcLength(cnt,True)"
   ]
  },
  {
   "cell_type": "code",
   "execution_count": null,
   "metadata": {
    "ExecuteTime": {
     "end_time": "2020-02-07T07:23:18.047140Z",
     "start_time": "2020-02-07T07:23:04.238Z"
    }
   },
   "outputs": [],
   "source": [
    "epsilon"
   ]
  },
  {
   "cell_type": "code",
   "execution_count": null,
   "metadata": {},
   "outputs": [],
   "source": []
  },
  {
   "cell_type": "code",
   "execution_count": null,
   "metadata": {},
   "outputs": [],
   "source": []
  },
  {
   "cell_type": "code",
   "execution_count": null,
   "metadata": {},
   "outputs": [],
   "source": []
  },
  {
   "cell_type": "code",
   "execution_count": null,
   "metadata": {},
   "outputs": [],
   "source": []
  },
  {
   "cell_type": "code",
   "execution_count": null,
   "metadata": {},
   "outputs": [],
   "source": []
  },
  {
   "cell_type": "code",
   "execution_count": null,
   "metadata": {
    "ExecuteTime": {
     "end_time": "2020-02-07T07:23:18.049139Z",
     "start_time": "2020-02-07T07:23:04.274Z"
    }
   },
   "outputs": [],
   "source": [
    "(h, w) = image.shape[:2]\n",
    "center = (w // 2, h // 2)\n",
    "M = cv2.getRotationMatrix2D(center, angle, 1.0)\n",
    "warped = cv2.warpPerspective(image, M, (w, h))"
   ]
  },
  {
   "cell_type": "code",
   "execution_count": null,
   "metadata": {
    "ExecuteTime": {
     "end_time": "2020-02-07T07:12:29.428379Z",
     "start_time": "2020-02-07T07:11:52.062Z"
    }
   },
   "outputs": [],
   "source": []
  },
  {
   "cell_type": "markdown",
   "metadata": {
    "ExecuteTime": {
     "end_time": "2020-02-07T07:12:29.430379Z",
     "start_time": "2020-02-07T07:11:52.065Z"
    }
   },
   "source": [
    "## Templete Match"
   ]
  },
  {
   "cell_type": "code",
   "execution_count": 34,
   "metadata": {
    "ExecuteTime": {
     "end_time": "2020-02-07T12:01:09.651286Z",
     "start_time": "2020-02-07T12:01:09.482384Z"
    }
   },
   "outputs": [
    {
     "data": {
      "text/plain": [
       "69"
      ]
     },
     "execution_count": 34,
     "metadata": {},
     "output_type": "execute_result"
    }
   ],
   "source": [
    "import cv2\n",
    "import numpy as np\n",
    "\n",
    "img_rgb = cv2.imread('1.jpg')\n",
    "\n",
    "img_gray = cv2.cvtColor(img_rgb, cv2.COLOR_BGR2GRAY)\n",
    "\n",
    "template = cv2.imread('6.jpg',0)\n",
    "w, h = template.shape[::-1]\n",
    "\n",
    "h"
   ]
  },
  {
   "cell_type": "code",
   "execution_count": null,
   "metadata": {},
   "outputs": [],
   "source": []
  },
  {
   "cell_type": "code",
   "execution_count": 30,
   "metadata": {
    "ExecuteTime": {
     "end_time": "2020-02-07T11:59:09.454544Z",
     "start_time": "2020-02-07T11:59:08.946834Z"
    }
   },
   "outputs": [],
   "source": [
    "res = cv2.matchTemplate(img_gray,template,cv2.TM_CCOEFF_NORMED)\n",
    "threshold = 0.5\n",
    "loc = np.where( res >= threshold)\n"
   ]
  },
  {
   "cell_type": "code",
   "execution_count": 29,
   "metadata": {
    "ExecuteTime": {
     "end_time": "2020-02-07T11:58:57.894493Z",
     "start_time": "2020-02-07T11:58:54.371501Z"
    }
   },
   "outputs": [],
   "source": [
    "for pt in zip(*loc[::-1]):\n",
    "    print(pt)\n",
    "    cv2.rectangle(img_rgb, pt, (pt[0] + w, pt[1] + h), (0,255,255), 10)\n",
    "\n",
    "cv2.imshow('Detected',img_rgb)\n",
    "cv2.waitKey(0)\n",
    "cv2.destroyAllWindows()"
   ]
  },
  {
   "cell_type": "code",
   "execution_count": 20,
   "metadata": {
    "ExecuteTime": {
     "end_time": "2020-02-07T11:51:27.270199Z",
     "start_time": "2020-02-07T11:51:27.262198Z"
    }
   },
   "outputs": [],
   "source": [
    "for pt in zip(*loc[::-1]):\n",
    "    \n",
    "    cv2.rectangle(img_rgb, pt, (pt[0] + w, pt[1] + h), (0,255,255), 2)\n",
    "    cv2.imshow('Detected',img_rgb)\n",
    "    cv2.waitKey(0)\n",
    "    cv2.destroyAllWindows()"
   ]
  },
  {
   "cell_type": "code",
   "execution_count": 31,
   "metadata": {
    "ExecuteTime": {
     "end_time": "2020-02-07T11:59:12.443963Z",
     "start_time": "2020-02-07T11:59:12.438963Z"
    }
   },
   "outputs": [
    {
     "data": {
      "text/plain": [
       "(array([], dtype=int64), array([], dtype=int64))"
      ]
     },
     "execution_count": 31,
     "metadata": {},
     "output_type": "execute_result"
    }
   ],
   "source": [
    "loc"
   ]
  },
  {
   "cell_type": "code",
   "execution_count": 32,
   "metadata": {
    "ExecuteTime": {
     "end_time": "2020-02-07T12:00:50.342292Z",
     "start_time": "2020-02-07T12:00:33.684862Z"
    }
   },
   "outputs": [],
   "source": [
    "cv2.imshow('Detected',res)\n",
    "cv2.waitKey(0)\n",
    "cv2.destroyAllWindows()"
   ]
  },
  {
   "cell_type": "code",
   "execution_count": null,
   "metadata": {},
   "outputs": [],
   "source": []
  },
  {
   "cell_type": "code",
   "execution_count": null,
   "metadata": {},
   "outputs": [],
   "source": []
  }
 ],
 "metadata": {
  "kernelspec": {
   "display_name": "Python 3",
   "language": "python",
   "name": "python3"
  },
  "language_info": {
   "codemirror_mode": {
    "name": "ipython",
    "version": 3
   },
   "file_extension": ".py",
   "mimetype": "text/x-python",
   "name": "python",
   "nbconvert_exporter": "python",
   "pygments_lexer": "ipython3",
   "version": "3.7.4"
  }
 },
 "nbformat": 4,
 "nbformat_minor": 2
}
